{
  "nbformat": 4,
  "nbformat_minor": 0,
  "metadata": {
    "colab": {
      "name": "Streamlit(Tutorial).ipynb",
      "provenance": [],
      "authorship_tag": "ABX9TyPwl6bX69YMH2JzJmv9ushv",
      "include_colab_link": true
    },
    "kernelspec": {
      "name": "python3",
      "display_name": "Python 3"
    }
  },
  "cells": [
    {
      "cell_type": "markdown",
      "metadata": {
        "id": "view-in-github",
        "colab_type": "text"
      },
      "source": [
        "<a href=\"https://colab.research.google.com/github/DataCrusade1999/Streamlit/blob/master/Streamlit(Tutorial).ipynb\" target=\"_parent\"><img src=\"https://colab.research.google.com/assets/colab-badge.svg\" alt=\"Open In Colab\"/></a>"
      ]
    },
    {
      "cell_type": "markdown",
      "metadata": {
        "id": "c28RKGPDSj8B",
        "colab_type": "text"
      },
      "source": [
        "**INSTALLING STREAMLIT**"
      ]
    },
    {
      "cell_type": "code",
      "metadata": {
        "id": "8kgM13mtSXJt",
        "colab_type": "code",
        "colab": {}
      },
      "source": [
        "pip install streamlit"
      ],
      "execution_count": null,
      "outputs": []
    },
    {
      "cell_type": "markdown",
      "metadata": {
        "id": "MI-xoq2NTJi9",
        "colab_type": "text"
      },
      "source": [
        "**CHECKING VERSION**"
      ]
    },
    {
      "cell_type": "code",
      "metadata": {
        "id": "7QzFguQ1TJJh",
        "colab_type": "code",
        "colab": {}
      },
      "source": [
        "import numpy as np\n",
        "import pandas as pd\n",
        "import streamlit as st\n",
        "import yfinance as yf"
      ],
      "execution_count": 23,
      "outputs": []
    },
    {
      "cell_type": "code",
      "metadata": {
        "id": "ILOUC_yhTg-z",
        "colab_type": "code",
        "colab": {
          "base_uri": "https://localhost:8080/",
          "height": 34
        },
        "outputId": "3c43e36a-9359-40c8-d383-e2bbf29c2f49"
      },
      "source": [
        "print(st.__version__)"
      ],
      "execution_count": 24,
      "outputs": [
        {
          "output_type": "stream",
          "text": [
            "0.65.2\n"
          ],
          "name": "stdout"
        }
      ]
    },
    {
      "cell_type": "markdown",
      "metadata": {
        "id": "69p89fl4TwA4",
        "colab_type": "text"
      },
      "source": [
        "**USING STREAMLIT RUN**"
      ]
    },
    {
      "cell_type": "code",
      "metadata": {
        "id": "eESFrPObTiZ8",
        "colab_type": "code",
        "colab": {}
      },
      "source": [
        "#We Use Streamlit Run Command To Run Our App\n",
        "\n",
        "st.write(\"\"\"\n",
        "# Simple Stock Price App\n",
        "Shown are the stock closing price and volume of Google!\n",
        "\"\"\")\n",
        "\n",
        "# https://towardsdatascience.com/how-to-get-stock-data-using-python-c0de1df17e75\n",
        "#define the ticker symbol\n",
        "tickerSymbol = 'GOOGL'\n",
        "#get data on this ticker\n",
        "tickerData = yf.Ticker(tickerSymbol)\n",
        "#get the historical prices for this ticker\n",
        "tickerDf = tickerData.history(period='1d', start='2010-5-31', end='2020-5-31')\n",
        "# Open\tHigh\tLow\tClose\tVolume\tDividends\tStock Splits\n",
        "\n",
        "st.line_chart(tickerDf.Close)\n",
        "st.line_chart(tickerDf.Volume)\n"
      ],
      "execution_count": null,
      "outputs": []
    }
  ]
}