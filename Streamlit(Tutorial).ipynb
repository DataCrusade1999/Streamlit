{
  "nbformat": 4,
  "nbformat_minor": 0,
  "metadata": {
    "colab": {
      "name": "Streamlit(Tutorial).ipynb",
      "provenance": [],
      "authorship_tag": "ABX9TyM/4mcai60MwOIRxOTKXn+I",
      "include_colab_link": true
    },
    "kernelspec": {
      "name": "python3",
      "display_name": "Python 3"
    }
  },
  "cells": [
    {
      "cell_type": "markdown",
      "metadata": {
        "id": "view-in-github",
        "colab_type": "text"
      },
      "source": [
        "<a href=\"https://colab.research.google.com/github/DataCrusade1999/Streamlit/blob/master/Streamlit(Tutorial).ipynb\" target=\"_parent\"><img src=\"https://colab.research.google.com/assets/colab-badge.svg\" alt=\"Open In Colab\"/></a>"
      ]
    },
    {
      "cell_type": "markdown",
      "metadata": {
        "id": "c28RKGPDSj8B",
        "colab_type": "text"
      },
      "source": [
        "**INSTALLING STREAMLIT**"
      ]
    },
    {
      "cell_type": "code",
      "metadata": {
        "id": "8kgM13mtSXJt",
        "colab_type": "code",
        "colab": {}
      },
      "source": [
        "pip install streamlit"
      ],
      "execution_count": null,
      "outputs": []
    },
    {
      "cell_type": "markdown",
      "metadata": {
        "id": "MI-xoq2NTJi9",
        "colab_type": "text"
      },
      "source": [
        "**CHECKING VERSION**"
      ]
    },
    {
      "cell_type": "code",
      "metadata": {
        "id": "7QzFguQ1TJJh",
        "colab_type": "code",
        "colab": {}
      },
      "source": [
        "import numpy as np\n",
        "import pandas as pd\n",
        "import streamlit as st\n",
        "import yfinance as yf"
      ],
      "execution_count": 23,
      "outputs": []
    },
    {
      "cell_type": "code",
      "metadata": {
        "id": "ILOUC_yhTg-z",
        "colab_type": "code",
        "colab": {
          "base_uri": "https://localhost:8080/",
          "height": 34
        },
        "outputId": "3c43e36a-9359-40c8-d383-e2bbf29c2f49"
      },
      "source": [
        "print(st.__version__)"
      ],
      "execution_count": 24,
      "outputs": [
        {
          "output_type": "stream",
          "text": [
            "0.65.2\n"
          ],
          "name": "stdout"
        }
      ]
    },
    {
      "cell_type": "markdown",
      "metadata": {
        "id": "69p89fl4TwA4",
        "colab_type": "text"
      },
      "source": [
        "**USING STREAMLIT RUN**"
      ]
    },
    {
      "cell_type": "code",
      "metadata": {
        "id": "eESFrPObTiZ8",
        "colab_type": "code",
        "colab": {
          "base_uri": "https://localhost:8080/",
          "height": 34
        },
        "outputId": "63e4ac7d-65db-4e2f-d406-face38fa91f1"
      },
      "source": [
        "#We Use Streamlit Run Command To Run Our App\n",
        "\n",
        "st.write(\"\"\"\n",
        "# Simple Stock Price App\n",
        "Shown are the stock closing price and volume of Google!\n",
        "\"\"\")\n",
        "\n",
        "# https://towardsdatascience.com/how-to-get-stock-data-using-python-c0de1df17e75\n",
        "#define the ticker symbol\n",
        "tickerSymbol = 'GOOGL'\n",
        "#get data on this ticker\n",
        "tickerData = yf.Ticker(tickerSymbol)\n",
        "#get the historical prices for this ticker\n",
        "tickerDf = tickerData.history(period='1d', start='2010-5-31', end='2020-5-31')\n",
        "# Open\tHigh\tLow\tClose\tVolume\tDividends\tStock Splits\n",
        "\n",
        "st.line_chart(tickerDf.Close)\n",
        "st.line_chart(tickerDf.Volume)\n",
        "\n",
        "\n"
      ],
      "execution_count": 43,
      "outputs": [
        {
          "output_type": "execute_result",
          "data": {
            "text/plain": [
              "<streamlit.delta_generator.DeltaGenerator at 0x7fb04ed9bf28>"
            ]
          },
          "metadata": {
            "tags": []
          },
          "execution_count": 43
        }
      ]
    },
    {
      "cell_type": "code",
      "metadata": {
        "id": "3pu28LrazCk9",
        "colab_type": "code",
        "colab": {
          "base_uri": "https://localhost:8080/",
          "height": 202
        },
        "outputId": "d29d064a-28d8-49b6-dc27-28e4e265f2a4"
      },
      "source": [
        "!wget https://bin.equinox.io/c/4VmDzA7iaHb/ngrok-stable-linux-amd64.zip"
      ],
      "execution_count": 38,
      "outputs": [
        {
          "output_type": "stream",
          "text": [
            "--2020-08-27 07:22:50--  https://bin.equinox.io/c/4VmDzA7iaHb/ngrok-stable-linux-amd64.zip\n",
            "Resolving bin.equinox.io (bin.equinox.io)... 52.54.124.219, 52.71.209.190, 3.230.235.205, ...\n",
            "Connecting to bin.equinox.io (bin.equinox.io)|52.54.124.219|:443... connected.\n",
            "HTTP request sent, awaiting response... 200 OK\n",
            "Length: 13773305 (13M) [application/octet-stream]\n",
            "Saving to: ‘ngrok-stable-linux-amd64.zip’\n",
            "\n",
            "ngrok-stable-linux- 100%[===================>]  13.13M  62.6MB/s    in 0.2s    \n",
            "\n",
            "2020-08-27 07:22:50 (62.6 MB/s) - ‘ngrok-stable-linux-amd64.zip’ saved [13773305/13773305]\n",
            "\n"
          ],
          "name": "stdout"
        }
      ]
    },
    {
      "cell_type": "code",
      "metadata": {
        "id": "PfwOOSH7zHtQ",
        "colab_type": "code",
        "colab": {
          "base_uri": "https://localhost:8080/",
          "height": 50
        },
        "outputId": "1411def3-8bf3-4208-8d6c-c39458197725"
      },
      "source": [
        "!unzip ngrok-stable-linux-amd64.zip"
      ],
      "execution_count": 39,
      "outputs": [
        {
          "output_type": "stream",
          "text": [
            "Archive:  ngrok-stable-linux-amd64.zip\n",
            "  inflating: ngrok                   \n"
          ],
          "name": "stdout"
        }
      ]
    },
    {
      "cell_type": "code",
      "metadata": {
        "id": "n-lFMh5zzPNg",
        "colab_type": "code",
        "colab": {}
      },
      "source": [
        "get_ipython().system_raw('./ngrok http 8501 &')"
      ],
      "execution_count": 40,
      "outputs": []
    },
    {
      "cell_type": "code",
      "metadata": {
        "id": "al-RfHTWzRnK",
        "colab_type": "code",
        "colab": {
          "base_uri": "https://localhost:8080/",
          "height": 34
        },
        "outputId": "72481924-fbe1-49a7-c8f5-ecc3d675c615"
      },
      "source": [
        "!curl -s http://localhost:4040/api/tunnels | python3 -c \\\n",
        "    'import sys, json; print(\"Execute the next cell and the go to the following URL: \" +json.load(sys.stdin)[\"tunnels\"][0][\"public_url\"])'"
      ],
      "execution_count": 46,
      "outputs": [
        {
          "output_type": "stream",
          "text": [
            "Execute the next cell and the go to the following URL: https://5073264bb072.ngrok.io\n"
          ],
          "name": "stdout"
        }
      ]
    },
    {
      "cell_type": "code",
      "metadata": {
        "id": "3HvgGVauzqv2",
        "colab_type": "code",
        "colab": {
          "base_uri": "https://localhost:8080/",
          "height": 50
        },
        "outputId": "01a8b691-86eb-4636-a02e-653e8d8cb823"
      },
      "source": [
        "!streamlit run /content/Streamlit(Tutorial).ipynb"
      ],
      "execution_count": 47,
      "outputs": [
        {
          "output_type": "stream",
          "text": [
            "/bin/bash: -c: line 0: syntax error near unexpected token `('\n",
            "/bin/bash: -c: line 0: `streamlit run /content/Streamlit(Tutorial).ipynb'\n"
          ],
          "name": "stdout"
        }
      ]
    }
  ]
}