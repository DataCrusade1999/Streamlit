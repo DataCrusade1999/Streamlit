{
  "nbformat": 4,
  "nbformat_minor": 0,
  "metadata": {
    "colab": {
      "name": "Streamlit(Tutorial).ipynb",
      "provenance": [],
      "authorship_tag": "ABX9TyM7G0zgsYKL0FRc563L2fh0",
      "include_colab_link": true
    },
    "kernelspec": {
      "name": "python3",
      "display_name": "Python 3"
    }
  },
  "cells": [
    {
      "cell_type": "markdown",
      "metadata": {
        "id": "view-in-github",
        "colab_type": "text"
      },
      "source": [
        "<a href=\"https://colab.research.google.com/github/DataCrusade1999/Streamlit/blob/master/Streamlit(Tutorial).ipynb\" target=\"_parent\"><img src=\"https://colab.research.google.com/assets/colab-badge.svg\" alt=\"Open In Colab\"/></a>"
      ]
    },
    {
      "cell_type": "markdown",
      "metadata": {
        "id": "c28RKGPDSj8B",
        "colab_type": "text"
      },
      "source": [
        "**INSTALLING STREAMLIT**"
      ]
    },
    {
      "cell_type": "code",
      "metadata": {
        "id": "8kgM13mtSXJt",
        "colab_type": "code",
        "colab": {}
      },
      "source": [
        "pip install streamlit"
      ],
      "execution_count": null,
      "outputs": []
    },
    {
      "cell_type": "markdown",
      "metadata": {
        "id": "MI-xoq2NTJi9",
        "colab_type": "text"
      },
      "source": [
        "**CHECKING VERSION**"
      ]
    },
    {
      "cell_type": "code",
      "metadata": {
        "id": "7QzFguQ1TJJh",
        "colab_type": "code",
        "colab": {}
      },
      "source": [
        "import numpy as np\n",
        "import pandas as pd\n",
        "import streamlit as st\n"
      ],
      "execution_count": 2,
      "outputs": []
    },
    {
      "cell_type": "code",
      "metadata": {
        "id": "ILOUC_yhTg-z",
        "colab_type": "code",
        "colab": {
          "base_uri": "https://localhost:8080/",
          "height": 34
        },
        "outputId": "b1e55505-ae69-4fcf-ed3a-010ef52b622b"
      },
      "source": [
        "print(st.__version__)"
      ],
      "execution_count": 3,
      "outputs": [
        {
          "output_type": "stream",
          "text": [
            "0.65.2\n"
          ],
          "name": "stdout"
        }
      ]
    },
    {
      "cell_type": "markdown",
      "metadata": {
        "id": "69p89fl4TwA4",
        "colab_type": "text"
      },
      "source": [
        "**USING STREAMLIT RUN**"
      ]
    },
    {
      "cell_type": "code",
      "metadata": {
        "id": "eESFrPObTiZ8",
        "colab_type": "code",
        "colab": {}
      },
      "source": [
        "#We Use Streamlit Run Command To Run Our App"
      ],
      "execution_count": 13,
      "outputs": []
    }
  ]
}